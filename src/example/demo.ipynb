{
 "cells": [
  {
   "cell_type": "markdown",
   "id": "16d6b787-ecc8-457a-9abc-cc8e5dbb6d12",
   "metadata": {},
   "source": [
    "# Demo for GenPRM inference"
   ]
  },
  {
   "cell_type": "markdown",
   "id": "33cc5b0b-a087-47e4-bc78-0fbedac7c845",
   "metadata": {},
   "source": [
    "## Import inference package"
   ]
  },
  {
   "cell_type": "code",
   "execution_count": 1,
   "id": "540081e4-2a5f-41dc-8f94-50d1c9e12b45",
   "metadata": {},
   "outputs": [
    {
     "name": "stderr",
     "output_type": "stream",
     "text": [
      "/mnt/weka/aisg/ob1/GenPRM/src/.venv/lib/python3.10/site-packages/tqdm/auto.py:21: TqdmWarning: IProgress not found. Please update jupyter and ipywidgets. See https://ipywidgets.readthedocs.io/en/stable/user_install.html\n",
      "  from .autonotebook import tqdm as notebook_tqdm\n",
      "2025-05-20 04:07:18,755\tINFO util.py:154 -- Missing packages: ['ipywidgets']. Run `pip install -U ipywidgets`, then restart the notebook server for rich notebook output.\n"
     ]
    },
    {
     "name": "stdout",
     "output_type": "stream",
     "text": [
      "INFO 05-20 04:07:21 __init__.py:183] Automatically detected platform cuda.\n"
     ]
    }
   ],
   "source": [
    "import os\n",
    "import sys\n",
    "sys.path.append('..')\n",
    "from prm_evaluation.genprm_inference import GenPRM"
   ]
  },
  {
   "cell_type": "markdown",
   "id": "9da4d5f7-452d-4407-9409-adb4781db3e3",
   "metadata": {},
   "source": [
    "## initialize GenPRM with vllm"
   ]
  },
  {
   "cell_type": "code",
   "execution_count": 6,
   "id": "ac2c40be-1b88-4287-aa1d-9a31a289e809",
   "metadata": {},
   "outputs": [
    {
     "name": "stdout",
     "output_type": "stream",
     "text": [
      "[2025-05-20 04:13:47] [INFO] Loading model from GenPRM/GenPRM-7B\n",
      "INFO 05-20 04:13:51 config.py:526] This model supports multiple tasks: {'reward', 'generate', 'classify', 'embed', 'score'}. Defaulting to 'generate'.\n",
      "INFO 05-20 04:13:51 config.py:1538] Chunked prefill is enabled with max_num_batched_tokens=2048.\n",
      "INFO 05-20 04:13:51 llm_engine.py:232] Initializing a V0 LLM engine (v0.7.1) with config: model='GenPRM/GenPRM-7B', speculative_config=None, tokenizer='GenPRM/GenPRM-7B', skip_tokenizer_init=False, tokenizer_mode=auto, revision=None, override_neuron_config=None, tokenizer_revision=None, trust_remote_code=False, dtype=torch.bfloat16, max_seq_len=131072, download_dir=None, load_format=auto, tensor_parallel_size=1, pipeline_parallel_size=1, disable_custom_all_reduce=False, quantization=None, enforce_eager=False, kv_cache_dtype=auto,  device_config=cuda, decoding_config=DecodingConfig(guided_decoding_backend='xgrammar'), observability_config=ObservabilityConfig(otlp_traces_endpoint=None, collect_model_forward_time=False, collect_model_execute_time=False), seed=0, served_model_name=GenPRM/GenPRM-7B, num_scheduler_steps=1, multi_step_stream_outputs=True, enable_prefix_caching=False, chunked_prefill_enabled=True, use_async_output_proc=True, disable_mm_preprocessor_cache=False, mm_processor_kwargs=None, pooler_config=None, compilation_config={\"splitting_ops\":[],\"compile_sizes\":[],\"cudagraph_capture_sizes\":[256,248,240,232,224,216,208,200,192,184,176,168,160,152,144,136,128,120,112,104,96,88,80,72,64,56,48,40,32,24,16,8,4,2,1],\"max_capture_size\":256}, use_cached_outputs=False, \n",
      "INFO 05-20 04:13:52 cuda.py:235] Using Flash Attention backend.\n",
      "INFO 05-20 04:13:53 model_runner.py:1111] Starting to load model GenPRM/GenPRM-7B...\n",
      "INFO 05-20 04:13:54 weight_utils.py:251] Using model weights format ['*.safetensors']\n"
     ]
    },
    {
     "name": "stderr",
     "output_type": "stream",
     "text": [
      "Loading safetensors checkpoint shards:   0% Completed | 0/4 [00:00<?, ?it/s]\n",
      "Loading safetensors checkpoint shards:  25% Completed | 1/4 [00:01<00:04,  1.56s/it]\n",
      "Loading safetensors checkpoint shards:  50% Completed | 2/4 [00:02<00:02,  1.47s/it]\n",
      "Loading safetensors checkpoint shards:  75% Completed | 3/4 [00:03<00:00,  1.01it/s]\n",
      "Loading safetensors checkpoint shards: 100% Completed | 4/4 [00:04<00:00,  1.20s/it]\n",
      "Loading safetensors checkpoint shards: 100% Completed | 4/4 [00:04<00:00,  1.23s/it]\n",
      "\n"
     ]
    },
    {
     "name": "stdout",
     "output_type": "stream",
     "text": [
      "INFO 05-20 04:17:30 model_runner.py:1116] Loading model weights took 14.2717 GB\n",
      "INFO 05-20 04:17:31 worker.py:266] Memory profiling takes 0.62 seconds\n",
      "INFO 05-20 04:17:31 worker.py:266] the current vLLM instance can use total_gpu_memory (139.72GiB) x gpu_memory_utilization (0.90) = 125.75GiB\n",
      "INFO 05-20 04:17:31 worker.py:266] model weights take 14.27GiB; non_torch_memory takes 0.15GiB; PyTorch activation peak memory takes 1.43GiB; the rest of the memory reserved for KV Cache is 109.90GiB.\n",
      "INFO 05-20 04:17:31 executor_base.py:108] # CUDA blocks: 128611, # CPU blocks: 4681\n",
      "INFO 05-20 04:17:31 executor_base.py:113] Maximum concurrency for 131072 tokens per request: 15.70x\n",
      "INFO 05-20 04:17:33 model_runner.py:1435] Capturing cudagraphs for decoding. This may lead to unexpected consequences if the model is not static. To run the model in eager mode, set 'enforce_eager=True' or use '--enforce-eager' in the CLI. If out-of-memory error occurs during cudagraph capture, consider decreasing `gpu_memory_utilization` or switching to eager mode. You can also reduce the `max_num_seqs` as needed to decrease memory usage.\n"
     ]
    },
    {
     "name": "stderr",
     "output_type": "stream",
     "text": [
      "Capturing CUDA graph shapes: 100%|███████████████████████████████████████████████████████████████████████| 35/35 [00:12<00:00,  2.76it/s]\n"
     ]
    },
    {
     "name": "stdout",
     "output_type": "stream",
     "text": [
      "INFO 05-20 04:17:46 model_runner.py:1563] Graph capturing finished in 13 secs, took 0.31 GiB\n",
      "INFO 05-20 04:17:46 llm_engine.py:429] init engine (profile, create kv cache, warmup model) took 15.70 seconds\n",
      "[2025-05-20 04:17:48] [INFO] GenPRM loaded successfully\n"
     ]
    }
   ],
   "source": [
    "os.environ['CUDA_VISIBLE_DEVICES'] = '1'\n",
    "\n",
    "genprm = GenPRM('GenPRM/GenPRM-7B', tensor_parallel_size=1)"
   ]
  },
  {
   "cell_type": "markdown",
   "id": "f48fd33b-58b3-4a59-8ece-9355c907d63d",
   "metadata": {},
   "source": [
    "## Pass@1 inference for single step"
   ]
  },
  {
   "cell_type": "code",
   "execution_count": 7,
   "id": "1b50f437-965b-4bf5-a532-c35456556eee",
   "metadata": {},
   "outputs": [
    {
     "name": "stdout",
     "output_type": "stream",
     "text": [
      "****************************************\n",
      "Start: paragraph 1 request 1\n",
      "----------------------------------------\n",
      "<｜begin▁of▁sentence｜>You are a math teacher. Your task is to review and critique the paragraphs in solution step by step.<｜User｜>Question: Jo adds up all the positive integers from 1 to 100. Kate does a similar thing with the first 100 positive integers; however, she first rounds every integer to its nearest multiple of 10 (rounding 5s up) and then adds the 100 values. What is the positive difference between Jo's sum and Kate's sum?\\n\\nFirst, we need to calculate Jo's sum, which is the sum of all positive integers from 1 to 100. This can be directly computed using the formula for the sum of the first \\(n\\) positive integers, which is \\(\\frac{n(n+1)}{2}\\). For \\(n = 100\\), Jo's sum is \\(\\frac{100 \\cdot 101}{2} = 5050\\).<analyze>\\nLet's analyze the Paragraph 1 step by step: \n",
      "----------------------------------------\n",
      "End: paragraph 1 request 1\n",
      "****************************************\n",
      "\n",
      "****************************************\n",
      "Start: paragraph 1 request 2\n",
      "----------------------------------------\n",
      "<｜begin▁of▁sentence｜>You are a math teacher. Your task is to review and critique the paragraphs in solution step by step.<｜User｜>Question: Jo adds up all the positive integers from 1 to 100. Kate does a similar thing with the first 100 positive integers; however, she first rounds every integer to its nearest multiple of 10 (rounding 5s up) and then adds the 100 values. What is the positive difference between Jo's sum and Kate's sum?\\n\\nFirst, we need to calculate Jo's sum, which is the sum of all positive integers from 1 to 100. This can be directly computed using the formula for the sum of the first \\(n\\) positive integers, which is \\(\\frac{n(n+1)}{2}\\). For \\(n = 100\\), Jo's sum is \\(\\frac{100 \\cdot 101}{2} = 5050\\).<analyze>\\nLet's analyze the Paragraph 1 step by step: 1. The problem states that Jo adds up all positive integers from 1 to 100. The formula used here is the standard arithmetic series formula, which is correct. The calculation for Jo's sum is indeed (100*101)/2 = 5050. This part is correct.\\n</analyze>\\n<verify>\\nLet's use python code to find any potential error:\\n```python\\n\n",
      "----------------------------------------\n",
      "End: paragraph 1 request 2\n",
      "****************************************\n",
      "\n",
      "****************************************\n",
      "Start: paragraph 1 request 3\n",
      "----------------------------------------\n",
      "<｜begin▁of▁sentence｜>You are a math teacher. Your task is to review and critique the paragraphs in solution step by step.<｜User｜>Question: Jo adds up all the positive integers from 1 to 100. Kate does a similar thing with the first 100 positive integers; however, she first rounds every integer to its nearest multiple of 10 (rounding 5s up) and then adds the 100 values. What is the positive difference between Jo's sum and Kate's sum?\\n\\nFirst, we need to calculate Jo's sum, which is the sum of all positive integers from 1 to 100. This can be directly computed using the formula for the sum of the first \\(n\\) positive integers, which is \\(\\frac{n(n+1)}{2}\\). For \\(n = 100\\), Jo's sum is \\(\\frac{100 \\cdot 101}{2} = 5050\\).<analyze>\\nLet's analyze the Paragraph 1 step by step: 1. The problem states that Jo adds up all positive integers from 1 to 100. The formula used here is the standard arithmetic series formula, which is correct. The calculation for Jo's sum is indeed (100*101)/2 = 5050. This part is correct.\\n</analyze>\\n<verify>\\nLet's use python code to find any potential error:\\n```python\\njo_sum = sum(range(1, 101))\\nprint(jo_sum)  # Should print 5050\\n```\\n[Code Output]\\n\\n```\\n5050\\n```\\n\n",
      "----------------------------------------\n",
      "End: paragraph 1 request 3\n",
      "****************************************\n",
      "\n",
      "****************************************\n",
      "Start: Model Output\n",
      "----------------------------------------\n",
      "[\"<analyze>\\nLet's analyze the Paragraph 1 step by step: 1. The problem states that Jo adds up all positive integers from 1 to 100. The formula used here is the standard arithmetic series formula, which is correct. The calculation for Jo's sum is indeed (100*101)/2 = 5050. This part is correct.\\n</analyze>\\n<verify>\\nLet's use python code to find any potential error:\\n```python\\njo_sum = sum(range(1, 101))\\nprint(jo_sum)  # Should print 5050\\n```\\n[Code Output]\\n\\n```\\n5050\\n```\\nThe computed sum matches the solution's result. No error here.\\n</verify>\\n<output>\\n**Judgement**: $\\\\boxed{Yes}$\\n</output>\\n\"]\n",
      "----------------------------------------\n",
      "End: Model Output\n",
      "****************************************\n",
      "\n",
      "****************************************\n",
      "Start: Reward\n",
      "----------------------------------------\n",
      "1.0\n",
      "----------------------------------------\n",
      "End: Reward\n",
      "****************************************\n",
      "\n"
     ]
    }
   ],
   "source": [
    "from prm_evaluation.genprm_inference import CodeExecutor\n",
    "from utils.util import *\n",
    "\n",
    "messages = [ \n",
    "    { \"content\": \"You are a math teacher. Your task is to review and critique the paragraphs in solution step by step.\", \"role\": \"system\" }, \n",
    "    { \"content\": \"Question: Jo adds up all the positive integers from 1 to 100. Kate does a similar thing with the first 100 positive integers; however, she first rounds every integer to its nearest multiple of 10 (rounding 5s up) and then adds the 100 values. What is the positive difference between Jo's sum and Kate's sum?\\n\\nFirst, we need to calculate Jo's sum, which is the sum of all positive integers from 1 to 100. This can be directly computed using the formula for the sum of the first \\\\(n\\\\) positive integers, which is \\\\(\\\\frac{n(n+1)}{2}\\\\). For \\\\(n = 100\\\\), Jo's sum is \\\\(\\\\frac{100 \\\\cdot 101}{2} = 5050\\\\).\", \"role\": \"user\" }, \n",
    "]\n",
    "code_executor = CodeExecutor()\n",
    "output, reward = genprm.inference(messages, cur_step=1, code_executor=code_executor)\n",
    "\n",
    "cprint(output, 'Model Output')\n",
    "cprint(reward, 'Reward')"
   ]
  },
  {
   "cell_type": "markdown",
   "id": "bff3bf4a-d694-4a9a-b7f7-6ade9b1d7815",
   "metadata": {},
   "source": [
    "## Majority of 8 inference for single step"
   ]
  },
  {
   "cell_type": "code",
   "execution_count": 8,
   "id": "419efcf4-d7fa-4385-90c9-764d7010f6d2",
   "metadata": {
    "scrolled": true
   },
   "outputs": [
    {
     "name": "stdout",
     "output_type": "stream",
     "text": [
      "****************************************\n",
      "Start: paragraph 1 request 1\n",
      "----------------------------------------\n",
      "<｜begin▁of▁sentence｜>You are a math teacher. Your task is to review and critique the paragraphs in solution step by step.<｜User｜>Question: Jo adds up all the positive integers from 1 to 100. Kate does a similar thing with the first 100 positive integers; however, she first rounds every integer to its nearest multiple of 10 (rounding 5s up) and then adds the 100 values. What is the positive difference between Jo's sum and Kate's sum?\\n\\nFirst, we need to calculate Jo's sum, which is the sum of all positive integers from 1 to 100. This can be directly computed using the formula for the sum of the first \\(n\\) positive integers, which is \\(\\frac{n(n+1)}{2}\\). For \\(n = 100\\), Jo's sum is \\(\\frac{100 \\cdot 101}{2} = 5050\\).<analyze>\\nLet's analyze the Paragraph 1 step by step: \n",
      "----------------------------------------\n",
      "End: paragraph 1 request 1\n",
      "****************************************\n",
      "\n",
      "****************************************\n",
      "Start: paragraph 1 request 2\n",
      "----------------------------------------\n",
      "<｜begin▁of▁sentence｜>You are a math teacher. Your task is to review and critique the paragraphs in solution step by step.<｜User｜>Question: Jo adds up all the positive integers from 1 to 100. Kate does a similar thing with the first 100 positive integers; however, she first rounds every integer to its nearest multiple of 10 (rounding 5s up) and then adds the 100 values. What is the positive difference between Jo's sum and Kate's sum?\\n\\nFirst, we need to calculate Jo's sum, which is the sum of all positive integers from 1 to 100. This can be directly computed using the formula for the sum of the first \\(n\\) positive integers, which is \\(\\frac{n(n+1)}{2}\\). For \\(n = 100\\), Jo's sum is \\(\\frac{100 \\cdot 101}{2} = 5050\\).<analyze>\\nLet's analyze the Paragraph 1 step by step: 1. The problem states Jo adds all integers from 1 to 100. The formula used is correct (sum = n(n+1)/2). 2. For n=100, the calculation 100*101/2 = 5050 is accurate. The reasoning here is correct.\\n</analyze>\\n<verify>\\nLet's use python code to find any potential error:\\n```python\\n\n",
      "----------------------------------------\n",
      "End: paragraph 1 request 2\n",
      "****************************************\n",
      "\n",
      "****************************************\n",
      "Start: paragraph 1 request 3\n",
      "----------------------------------------\n",
      "<｜begin▁of▁sentence｜>You are a math teacher. Your task is to review and critique the paragraphs in solution step by step.<｜User｜>Question: Jo adds up all the positive integers from 1 to 100. Kate does a similar thing with the first 100 positive integers; however, she first rounds every integer to its nearest multiple of 10 (rounding 5s up) and then adds the 100 values. What is the positive difference between Jo's sum and Kate's sum?\\n\\nFirst, we need to calculate Jo's sum, which is the sum of all positive integers from 1 to 100. This can be directly computed using the formula for the sum of the first \\(n\\) positive integers, which is \\(\\frac{n(n+1)}{2}\\). For \\(n = 100\\), Jo's sum is \\(\\frac{100 \\cdot 101}{2} = 5050\\).<analyze>\\nLet's analyze the Paragraph 1 step by step: 1. The problem states Jo adds all integers from 1 to 100. The formula used is correct (sum = n(n+1)/2). 2. For n=100, the calculation 100*101/2 = 5050 is accurate. The reasoning here is correct.\\n</analyze>\\n<verify>\\nLet's use python code to find any potential error:\\n```python\\nn = 100\\njo_sum = n * (n + 1) // 2\\nprint(jo_sum)  # Should print 5050\\n```\\n[Code Output]\\n\\n```\\n5050\\n```\\n\n",
      "----------------------------------------\n",
      "End: paragraph 1 request 3\n",
      "****************************************\n",
      "\n",
      "****************************************\n",
      "Start: paragraph 1 request 1\n",
      "----------------------------------------\n",
      "<｜begin▁of▁sentence｜>You are a math teacher. Your task is to review and critique the paragraphs in solution step by step.<｜User｜>Question: Jo adds up all the positive integers from 1 to 100. Kate does a similar thing with the first 100 positive integers; however, she first rounds every integer to its nearest multiple of 10 (rounding 5s up) and then adds the 100 values. What is the positive difference between Jo's sum and Kate's sum?\\n\\nFirst, we need to calculate Jo's sum, which is the sum of all positive integers from 1 to 100. This can be directly computed using the formula for the sum of the first \\(n\\) positive integers, which is \\(\\frac{n(n+1)}{2}\\). For \\(n = 100\\), Jo's sum is \\(\\frac{100 \\cdot 101}{2} = 5050\\).<analyze>\\nLet's analyze the Paragraph 1 step by step: \n",
      "----------------------------------------\n",
      "End: paragraph 1 request 1\n",
      "****************************************\n",
      "\n",
      "****************************************\n",
      "Start: paragraph 1 request 2\n",
      "----------------------------------------\n",
      "<｜begin▁of▁sentence｜>You are a math teacher. Your task is to review and critique the paragraphs in solution step by step.<｜User｜>Question: Jo adds up all the positive integers from 1 to 100. Kate does a similar thing with the first 100 positive integers; however, she first rounds every integer to its nearest multiple of 10 (rounding 5s up) and then adds the 100 values. What is the positive difference between Jo's sum and Kate's sum?\\n\\nFirst, we need to calculate Jo's sum, which is the sum of all positive integers from 1 to 100. This can be directly computed using the formula for the sum of the first \\(n\\) positive integers, which is \\(\\frac{n(n+1)}{2}\\). For \\(n = 100\\), Jo's sum is \\(\\frac{100 \\cdot 101}{2} = 5050\\).<analyze>\\nLet's analyze the Paragraph 1 step by step: 1. The problem states that Jo adds up all integers from 1 to 100. The formula used is correct (sum = n(n+1)/2). 2. Substituting n=100 gives 100*101/2 = 5050. This calculation is accurate. The reasoning here is correct.\\n</analyze>\\n<verify>\\nLet's use python code to find any potential error:\\n```python\\n\n",
      "----------------------------------------\n",
      "End: paragraph 1 request 2\n",
      "****************************************\n",
      "\n",
      "****************************************\n",
      "Start: paragraph 1 request 3\n",
      "----------------------------------------\n",
      "<｜begin▁of▁sentence｜>You are a math teacher. Your task is to review and critique the paragraphs in solution step by step.<｜User｜>Question: Jo adds up all the positive integers from 1 to 100. Kate does a similar thing with the first 100 positive integers; however, she first rounds every integer to its nearest multiple of 10 (rounding 5s up) and then adds the 100 values. What is the positive difference between Jo's sum and Kate's sum?\\n\\nFirst, we need to calculate Jo's sum, which is the sum of all positive integers from 1 to 100. This can be directly computed using the formula for the sum of the first \\(n\\) positive integers, which is \\(\\frac{n(n+1)}{2}\\). For \\(n = 100\\), Jo's sum is \\(\\frac{100 \\cdot 101}{2} = 5050\\).<analyze>\\nLet's analyze the Paragraph 1 step by step: 1. The problem states that Jo adds up all integers from 1 to 100. The formula used is correct (sum = n(n+1)/2). 2. Substituting n=100 gives 100*101/2 = 5050. This calculation is accurate. The reasoning here is correct.\\n</analyze>\\n<verify>\\nLet's use python code to find any potential error:\\n```python\\nn = 100\\njo_sum = n * (n + 1) // 2\\nprint(jo_sum)\\n```\\n[Code Output]\\n\\n```\\n5050\\n```\\n\n",
      "----------------------------------------\n",
      "End: paragraph 1 request 3\n",
      "****************************************\n",
      "\n",
      "****************************************\n",
      "Start: paragraph 1 request 1\n",
      "----------------------------------------\n",
      "<｜begin▁of▁sentence｜>You are a math teacher. Your task is to review and critique the paragraphs in solution step by step.<｜User｜>Question: Jo adds up all the positive integers from 1 to 100. Kate does a similar thing with the first 100 positive integers; however, she first rounds every integer to its nearest multiple of 10 (rounding 5s up) and then adds the 100 values. What is the positive difference between Jo's sum and Kate's sum?\\n\\nFirst, we need to calculate Jo's sum, which is the sum of all positive integers from 1 to 100. This can be directly computed using the formula for the sum of the first \\(n\\) positive integers, which is \\(\\frac{n(n+1)}{2}\\). For \\(n = 100\\), Jo's sum is \\(\\frac{100 \\cdot 101}{2} = 5050\\).<analyze>\\nLet's analyze the Paragraph 1 step by step: \n",
      "----------------------------------------\n",
      "End: paragraph 1 request 1\n",
      "****************************************\n",
      "\n",
      "****************************************\n",
      "Start: paragraph 1 request 2\n",
      "----------------------------------------\n",
      "<｜begin▁of▁sentence｜>You are a math teacher. Your task is to review and critique the paragraphs in solution step by step.<｜User｜>Question: Jo adds up all the positive integers from 1 to 100. Kate does a similar thing with the first 100 positive integers; however, she first rounds every integer to its nearest multiple of 10 (rounding 5s up) and then adds the 100 values. What is the positive difference between Jo's sum and Kate's sum?\\n\\nFirst, we need to calculate Jo's sum, which is the sum of all positive integers from 1 to 100. This can be directly computed using the formula for the sum of the first \\(n\\) positive integers, which is \\(\\frac{n(n+1)}{2}\\). For \\(n = 100\\), Jo's sum is \\(\\frac{100 \\cdot 101}{2} = 5050\\).<analyze>\\nLet's analyze the Paragraph 1 step by step:  The problem states that Jo adds all integers from 1 to 100. The formula used is the standard arithmetic series sum formula, which is correct. Plugging n=100 gives 100*101/2 = 5050. This calculation is accurate. There is no error here.\\n</analyze>\\n<verify>\\nLet's use python code to find any potential error:\\n```python\\n\n",
      "----------------------------------------\n",
      "End: paragraph 1 request 2\n",
      "****************************************\n",
      "\n",
      "****************************************\n",
      "Start: paragraph 1 request 3\n",
      "----------------------------------------\n",
      "<｜begin▁of▁sentence｜>You are a math teacher. Your task is to review and critique the paragraphs in solution step by step.<｜User｜>Question: Jo adds up all the positive integers from 1 to 100. Kate does a similar thing with the first 100 positive integers; however, she first rounds every integer to its nearest multiple of 10 (rounding 5s up) and then adds the 100 values. What is the positive difference between Jo's sum and Kate's sum?\\n\\nFirst, we need to calculate Jo's sum, which is the sum of all positive integers from 1 to 100. This can be directly computed using the formula for the sum of the first \\(n\\) positive integers, which is \\(\\frac{n(n+1)}{2}\\). For \\(n = 100\\), Jo's sum is \\(\\frac{100 \\cdot 101}{2} = 5050\\).<analyze>\\nLet's analyze the Paragraph 1 step by step:  The problem states that Jo adds all integers from 1 to 100. The formula used is the standard arithmetic series sum formula, which is correct. Plugging n=100 gives 100*101/2 = 5050. This calculation is accurate. There is no error here.\\n</analyze>\\n<verify>\\nLet's use python code to find any potential error:\\n```python\\nn = 100\\njo_sum = n * (n + 1) // 2\\nprint(f\"Jo's sum: {jo_sum}\")  # Should output 5050\\n```\\n[Code Output]\\n\\n```\\nJo's sum: 5050\\n```\\n\n",
      "----------------------------------------\n",
      "End: paragraph 1 request 3\n",
      "****************************************\n",
      "\n",
      "****************************************\n",
      "Start: paragraph 1 request 1\n",
      "----------------------------------------\n",
      "<｜begin▁of▁sentence｜>You are a math teacher. Your task is to review and critique the paragraphs in solution step by step.<｜User｜>Question: Jo adds up all the positive integers from 1 to 100. Kate does a similar thing with the first 100 positive integers; however, she first rounds every integer to its nearest multiple of 10 (rounding 5s up) and then adds the 100 values. What is the positive difference between Jo's sum and Kate's sum?\\n\\nFirst, we need to calculate Jo's sum, which is the sum of all positive integers from 1 to 100. This can be directly computed using the formula for the sum of the first \\(n\\) positive integers, which is \\(\\frac{n(n+1)}{2}\\). For \\(n = 100\\), Jo's sum is \\(\\frac{100 \\cdot 101}{2} = 5050\\).<analyze>\\nLet's analyze the Paragraph 1 step by step: \n",
      "----------------------------------------\n",
      "End: paragraph 1 request 1\n",
      "****************************************\n",
      "\n",
      "****************************************\n",
      "Start: paragraph 1 request 2\n",
      "----------------------------------------\n",
      "<｜begin▁of▁sentence｜>You are a math teacher. Your task is to review and critique the paragraphs in solution step by step.<｜User｜>Question: Jo adds up all the positive integers from 1 to 100. Kate does a similar thing with the first 100 positive integers; however, she first rounds every integer to its nearest multiple of 10 (rounding 5s up) and then adds the 100 values. What is the positive difference between Jo's sum and Kate's sum?\\n\\nFirst, we need to calculate Jo's sum, which is the sum of all positive integers from 1 to 100. This can be directly computed using the formula for the sum of the first \\(n\\) positive integers, which is \\(\\frac{n(n+1)}{2}\\). For \\(n = 100\\), Jo's sum is \\(\\frac{100 \\cdot 101}{2} = 5050\\).<analyze>\\nLet's analyze the Paragraph 1 step by step: 1. The problem states Jo adds all integers from 1 to 100. The formula used here is the standard arithmetic series sum formula, which is correct. The calculation is straightforward: 100*101/2 = 5050. This part is correct.\\n</analyze>\\n<verify>\\nLet's use python code to find any potential error:\\n```python\\n\n",
      "----------------------------------------\n",
      "End: paragraph 1 request 2\n",
      "****************************************\n",
      "\n",
      "****************************************\n",
      "Start: paragraph 1 request 3\n",
      "----------------------------------------\n",
      "<｜begin▁of▁sentence｜>You are a math teacher. Your task is to review and critique the paragraphs in solution step by step.<｜User｜>Question: Jo adds up all the positive integers from 1 to 100. Kate does a similar thing with the first 100 positive integers; however, she first rounds every integer to its nearest multiple of 10 (rounding 5s up) and then adds the 100 values. What is the positive difference between Jo's sum and Kate's sum?\\n\\nFirst, we need to calculate Jo's sum, which is the sum of all positive integers from 1 to 100. This can be directly computed using the formula for the sum of the first \\(n\\) positive integers, which is \\(\\frac{n(n+1)}{2}\\). For \\(n = 100\\), Jo's sum is \\(\\frac{100 \\cdot 101}{2} = 5050\\).<analyze>\\nLet's analyze the Paragraph 1 step by step: 1. The problem states Jo adds all integers from 1 to 100. The formula used here is the standard arithmetic series sum formula, which is correct. The calculation is straightforward: 100*101/2 = 5050. This part is correct.\\n</analyze>\\n<verify>\\nLet's use python code to find any potential error:\\n```python\\nn = 100\\njo_sum = n * (n + 1) // 2\\nprint(jo_sum)\\n```\\n[Code Output]\\n\\n```\\n5050\\n```\\n\n",
      "----------------------------------------\n",
      "End: paragraph 1 request 3\n",
      "****************************************\n",
      "\n",
      "****************************************\n",
      "Start: paragraph 1 request 1\n",
      "----------------------------------------\n",
      "<｜begin▁of▁sentence｜>You are a math teacher. Your task is to review and critique the paragraphs in solution step by step.<｜User｜>Question: Jo adds up all the positive integers from 1 to 100. Kate does a similar thing with the first 100 positive integers; however, she first rounds every integer to its nearest multiple of 10 (rounding 5s up) and then adds the 100 values. What is the positive difference between Jo's sum and Kate's sum?\\n\\nFirst, we need to calculate Jo's sum, which is the sum of all positive integers from 1 to 100. This can be directly computed using the formula for the sum of the first \\(n\\) positive integers, which is \\(\\frac{n(n+1)}{2}\\). For \\(n = 100\\), Jo's sum is \\(\\frac{100 \\cdot 101}{2} = 5050\\).<analyze>\\nLet's analyze the Paragraph 1 step by step: \n",
      "----------------------------------------\n",
      "End: paragraph 1 request 1\n",
      "****************************************\n",
      "\n",
      "****************************************\n",
      "Start: paragraph 1 request 2\n",
      "----------------------------------------\n",
      "<｜begin▁of▁sentence｜>You are a math teacher. Your task is to review and critique the paragraphs in solution step by step.<｜User｜>Question: Jo adds up all the positive integers from 1 to 100. Kate does a similar thing with the first 100 positive integers; however, she first rounds every integer to its nearest multiple of 10 (rounding 5s up) and then adds the 100 values. What is the positive difference between Jo's sum and Kate's sum?\\n\\nFirst, we need to calculate Jo's sum, which is the sum of all positive integers from 1 to 100. This can be directly computed using the formula for the sum of the first \\(n\\) positive integers, which is \\(\\frac{n(n+1)}{2}\\). For \\(n = 100\\), Jo's sum is \\(\\frac{100 \\cdot 101}{2} = 5050\\).<analyze>\\nLet's analyze the Paragraph 1 step by step: 1. The problem states that Jo adds all integers from 1 to 100. The formula used is correct for the sum of the first n integers. The calculation for n=100 is correct: 100*101/2 = 5050. This part is correct.\\n</analyze>\\n<verify>\\nLet's use python code to find any potential error:\\n```python\\n\n",
      "----------------------------------------\n",
      "End: paragraph 1 request 2\n",
      "****************************************\n",
      "\n",
      "****************************************\n",
      "Start: paragraph 1 request 3\n",
      "----------------------------------------\n",
      "<｜begin▁of▁sentence｜>You are a math teacher. Your task is to review and critique the paragraphs in solution step by step.<｜User｜>Question: Jo adds up all the positive integers from 1 to 100. Kate does a similar thing with the first 100 positive integers; however, she first rounds every integer to its nearest multiple of 10 (rounding 5s up) and then adds the 100 values. What is the positive difference between Jo's sum and Kate's sum?\\n\\nFirst, we need to calculate Jo's sum, which is the sum of all positive integers from 1 to 100. This can be directly computed using the formula for the sum of the first \\(n\\) positive integers, which is \\(\\frac{n(n+1)}{2}\\). For \\(n = 100\\), Jo's sum is \\(\\frac{100 \\cdot 101}{2} = 5050\\).<analyze>\\nLet's analyze the Paragraph 1 step by step: 1. The problem states that Jo adds all integers from 1 to 100. The formula used is correct for the sum of the first n integers. The calculation for n=100 is correct: 100*101/2 = 5050. This part is correct.\\n</analyze>\\n<verify>\\nLet's use python code to find any potential error:\\n```python\\nn = 100\\njo_sum = n * (n + 1) // 2\\nprint(f\"Jo's sum: {jo_sum}\")\\n```\\n[Code Output]\\n\\n```\\nJo's sum: 5050\\n```\\n\n",
      "----------------------------------------\n",
      "End: paragraph 1 request 3\n",
      "****************************************\n",
      "\n",
      "****************************************\n",
      "Start: paragraph 1 request 1\n",
      "----------------------------------------\n",
      "<｜begin▁of▁sentence｜>You are a math teacher. Your task is to review and critique the paragraphs in solution step by step.<｜User｜>Question: Jo adds up all the positive integers from 1 to 100. Kate does a similar thing with the first 100 positive integers; however, she first rounds every integer to its nearest multiple of 10 (rounding 5s up) and then adds the 100 values. What is the positive difference between Jo's sum and Kate's sum?\\n\\nFirst, we need to calculate Jo's sum, which is the sum of all positive integers from 1 to 100. This can be directly computed using the formula for the sum of the first \\(n\\) positive integers, which is \\(\\frac{n(n+1)}{2}\\). For \\(n = 100\\), Jo's sum is \\(\\frac{100 \\cdot 101}{2} = 5050\\).<analyze>\\nLet's analyze the Paragraph 1 step by step: \n",
      "----------------------------------------\n",
      "End: paragraph 1 request 1\n",
      "****************************************\n",
      "\n",
      "****************************************\n",
      "Start: paragraph 1 request 2\n",
      "----------------------------------------\n",
      "<｜begin▁of▁sentence｜>You are a math teacher. Your task is to review and critique the paragraphs in solution step by step.<｜User｜>Question: Jo adds up all the positive integers from 1 to 100. Kate does a similar thing with the first 100 positive integers; however, she first rounds every integer to its nearest multiple of 10 (rounding 5s up) and then adds the 100 values. What is the positive difference between Jo's sum and Kate's sum?\\n\\nFirst, we need to calculate Jo's sum, which is the sum of all positive integers from 1 to 100. This can be directly computed using the formula for the sum of the first \\(n\\) positive integers, which is \\(\\frac{n(n+1)}{2}\\). For \\(n = 100\\), Jo's sum is \\(\\frac{100 \\cdot 101}{2} = 5050\\).<analyze>\\nLet's analyze the Paragraph 1 step by step: 1. The problem states Jo adds up all integers from 1 to 100. The formula used is correct for the sum of the first n integers: n(n+1)/2. 2. Substituting n=100 gives 100*101/2 = 5050. This calculation is correct. Therefore, the reasoning here is correct.\\n</analyze>\\n<verify>\\nLet's use python code to find any potential error:\\n```python\\n\n",
      "----------------------------------------\n",
      "End: paragraph 1 request 2\n",
      "****************************************\n",
      "\n",
      "****************************************\n",
      "Start: paragraph 1 request 3\n",
      "----------------------------------------\n",
      "<｜begin▁of▁sentence｜>You are a math teacher. Your task is to review and critique the paragraphs in solution step by step.<｜User｜>Question: Jo adds up all the positive integers from 1 to 100. Kate does a similar thing with the first 100 positive integers; however, she first rounds every integer to its nearest multiple of 10 (rounding 5s up) and then adds the 100 values. What is the positive difference between Jo's sum and Kate's sum?\\n\\nFirst, we need to calculate Jo's sum, which is the sum of all positive integers from 1 to 100. This can be directly computed using the formula for the sum of the first \\(n\\) positive integers, which is \\(\\frac{n(n+1)}{2}\\). For \\(n = 100\\), Jo's sum is \\(\\frac{100 \\cdot 101}{2} = 5050\\).<analyze>\\nLet's analyze the Paragraph 1 step by step: 1. The problem states Jo adds up all integers from 1 to 100. The formula used is correct for the sum of the first n integers: n(n+1)/2. 2. Substituting n=100 gives 100*101/2 = 5050. This calculation is correct. Therefore, the reasoning here is correct.\\n</analyze>\\n<verify>\\nLet's use python code to find any potential error:\\n```python\\n# Calculate Jo's sum using the formula\\nn = 100\\njo_sum = n * (n + 1) // 2\\nprint(f\"Jo's sum is {jo_sum}\")  # Should output 5050\\n```\\n[Code Output]\\n\\n```\\nJo's sum is 5050\\n```\\n\n",
      "----------------------------------------\n",
      "End: paragraph 1 request 3\n",
      "****************************************\n",
      "\n",
      "****************************************\n",
      "Start: paragraph 1 request 1\n",
      "----------------------------------------\n",
      "<｜begin▁of▁sentence｜>You are a math teacher. Your task is to review and critique the paragraphs in solution step by step.<｜User｜>Question: Jo adds up all the positive integers from 1 to 100. Kate does a similar thing with the first 100 positive integers; however, she first rounds every integer to its nearest multiple of 10 (rounding 5s up) and then adds the 100 values. What is the positive difference between Jo's sum and Kate's sum?\\n\\nFirst, we need to calculate Jo's sum, which is the sum of all positive integers from 1 to 100. This can be directly computed using the formula for the sum of the first \\(n\\) positive integers, which is \\(\\frac{n(n+1)}{2}\\). For \\(n = 100\\), Jo's sum is \\(\\frac{100 \\cdot 101}{2} = 5050\\).<analyze>\\nLet's analyze the Paragraph 1 step by step: \n",
      "----------------------------------------\n",
      "End: paragraph 1 request 1\n",
      "****************************************\n",
      "\n",
      "****************************************\n",
      "Start: paragraph 1 request 2\n",
      "----------------------------------------\n",
      "<｜begin▁of▁sentence｜>You are a math teacher. Your task is to review and critique the paragraphs in solution step by step.<｜User｜>Question: Jo adds up all the positive integers from 1 to 100. Kate does a similar thing with the first 100 positive integers; however, she first rounds every integer to its nearest multiple of 10 (rounding 5s up) and then adds the 100 values. What is the positive difference between Jo's sum and Kate's sum?\\n\\nFirst, we need to calculate Jo's sum, which is the sum of all positive integers from 1 to 100. This can be directly computed using the formula for the sum of the first \\(n\\) positive integers, which is \\(\\frac{n(n+1)}{2}\\). For \\(n = 100\\), Jo's sum is \\(\\frac{100 \\cdot 101}{2} = 5050\\).<analyze>\\nLet's analyze the Paragraph 1 step by step: 1. The problem states Jo adds all integers from 1 to 100. 2. The formula used is the standard arithmetic series formula: n(n+1)/2. 3. Plugging in n=100 gives 100*101/2 = 5050. This is correct because the formula is well-known and the arithmetic checks out (100*101 = 10100; divided by 2 is indeed 5050). So this paragraph is correct.\\n</analyze>\\n<verify>\\nLet's use python code to find any potential error:\\n```python\\n\n",
      "----------------------------------------\n",
      "End: paragraph 1 request 2\n",
      "****************************************\n",
      "\n",
      "****************************************\n",
      "Start: paragraph 1 request 3\n",
      "----------------------------------------\n",
      "<｜begin▁of▁sentence｜>You are a math teacher. Your task is to review and critique the paragraphs in solution step by step.<｜User｜>Question: Jo adds up all the positive integers from 1 to 100. Kate does a similar thing with the first 100 positive integers; however, she first rounds every integer to its nearest multiple of 10 (rounding 5s up) and then adds the 100 values. What is the positive difference between Jo's sum and Kate's sum?\\n\\nFirst, we need to calculate Jo's sum, which is the sum of all positive integers from 1 to 100. This can be directly computed using the formula for the sum of the first \\(n\\) positive integers, which is \\(\\frac{n(n+1)}{2}\\). For \\(n = 100\\), Jo's sum is \\(\\frac{100 \\cdot 101}{2} = 5050\\).<analyze>\\nLet's analyze the Paragraph 1 step by step: 1. The problem states Jo adds all integers from 1 to 100. 2. The formula used is the standard arithmetic series formula: n(n+1)/2. 3. Plugging in n=100 gives 100*101/2 = 5050. This is correct because the formula is well-known and the arithmetic checks out (100*101 = 10100; divided by 2 is indeed 5050). So this paragraph is correct.\\n</analyze>\\n<verify>\\nLet's use python code to find any potential error:\\n```python\\nn = 100\\njo_sum = n * (n + 1) // 2\\nprint(jo_sum)\\n```\\n[Code Output]\\n\\n```\\n5050\\n```\\n\n",
      "----------------------------------------\n",
      "End: paragraph 1 request 3\n",
      "****************************************\n",
      "\n",
      "****************************************\n",
      "Start: paragraph 1 request 1\n",
      "----------------------------------------\n",
      "<｜begin▁of▁sentence｜>You are a math teacher. Your task is to review and critique the paragraphs in solution step by step.<｜User｜>Question: Jo adds up all the positive integers from 1 to 100. Kate does a similar thing with the first 100 positive integers; however, she first rounds every integer to its nearest multiple of 10 (rounding 5s up) and then adds the 100 values. What is the positive difference between Jo's sum and Kate's sum?\\n\\nFirst, we need to calculate Jo's sum, which is the sum of all positive integers from 1 to 100. This can be directly computed using the formula for the sum of the first \\(n\\) positive integers, which is \\(\\frac{n(n+1)}{2}\\). For \\(n = 100\\), Jo's sum is \\(\\frac{100 \\cdot 101}{2} = 5050\\).<analyze>\\nLet's analyze the Paragraph 1 step by step: \n",
      "----------------------------------------\n",
      "End: paragraph 1 request 1\n",
      "****************************************\n",
      "\n",
      "****************************************\n",
      "Start: paragraph 1 request 2\n",
      "----------------------------------------\n",
      "<｜begin▁of▁sentence｜>You are a math teacher. Your task is to review and critique the paragraphs in solution step by step.<｜User｜>Question: Jo adds up all the positive integers from 1 to 100. Kate does a similar thing with the first 100 positive integers; however, she first rounds every integer to its nearest multiple of 10 (rounding 5s up) and then adds the 100 values. What is the positive difference between Jo's sum and Kate's sum?\\n\\nFirst, we need to calculate Jo's sum, which is the sum of all positive integers from 1 to 100. This can be directly computed using the formula for the sum of the first \\(n\\) positive integers, which is \\(\\frac{n(n+1)}{2}\\). For \\(n = 100\\), Jo's sum is \\(\\frac{100 \\cdot 101}{2} = 5050\\).<analyze>\\nLet's analyze the Paragraph 1 step by step: 1. The problem states that Jo adds all integers from 1 to 100. 2. The formula used is correct: the sum of the first n integers is n(n+1)/2. 3. Plugging in n=100 gives 100*101/2 = 5050. This is correct. The reasoning here is accurate and there's no error.\\n</analyze>\\n<verify>\\nLet's use python code to find any potential error:\\n```python\\n\n",
      "----------------------------------------\n",
      "End: paragraph 1 request 2\n",
      "****************************************\n",
      "\n",
      "****************************************\n",
      "Start: paragraph 1 request 3\n",
      "----------------------------------------\n",
      "<｜begin▁of▁sentence｜>You are a math teacher. Your task is to review and critique the paragraphs in solution step by step.<｜User｜>Question: Jo adds up all the positive integers from 1 to 100. Kate does a similar thing with the first 100 positive integers; however, she first rounds every integer to its nearest multiple of 10 (rounding 5s up) and then adds the 100 values. What is the positive difference between Jo's sum and Kate's sum?\\n\\nFirst, we need to calculate Jo's sum, which is the sum of all positive integers from 1 to 100. This can be directly computed using the formula for the sum of the first \\(n\\) positive integers, which is \\(\\frac{n(n+1)}{2}\\). For \\(n = 100\\), Jo's sum is \\(\\frac{100 \\cdot 101}{2} = 5050\\).<analyze>\\nLet's analyze the Paragraph 1 step by step: 1. The problem states that Jo adds all integers from 1 to 100. 2. The formula used is correct: the sum of the first n integers is n(n+1)/2. 3. Plugging in n=100 gives 100*101/2 = 5050. This is correct. The reasoning here is accurate and there's no error.\\n</analyze>\\n<verify>\\nLet's use python code to find any potential error:\\n```python\\nn = 100\\njo_sum = n * (n + 1) // 2\\nprint(jo_sum)\\n```\\n[Code Output]\\n\\n```\\n5050\\n```\\n\n",
      "----------------------------------------\n",
      "End: paragraph 1 request 3\n",
      "****************************************\n",
      "\n",
      "****************************************\n",
      "Start: Reward\n",
      "----------------------------------------\n",
      "1.0\n",
      "----------------------------------------\n",
      "End: Reward\n",
      "****************************************\n",
      "\n"
     ]
    }
   ],
   "source": [
    "from prm_evaluation.genprm_inference import CodeExecutor\n",
    "from utils.util import *\n",
    "\n",
    "messages = [ \n",
    "    { \"content\": \"You are a math teacher. Your task is to review and critique the paragraphs in solution step by step.\", \"role\": \"system\" }, \n",
    "    { \"content\": \"Question: Jo adds up all the positive integers from 1 to 100. Kate does a similar thing with the first 100 positive integers; however, she first rounds every integer to its nearest multiple of 10 (rounding 5s up) and then adds the 100 values. What is the positive difference between Jo's sum and Kate's sum?\\n\\nFirst, we need to calculate Jo's sum, which is the sum of all positive integers from 1 to 100. This can be directly computed using the formula for the sum of the first \\\\(n\\\\) positive integers, which is \\\\(\\\\frac{n(n+1)}{2}\\\\). For \\\\(n = 100\\\\), Jo's sum is \\\\(\\\\frac{100 \\\\cdot 101}{2} = 5050\\\\).\", \"role\": \"user\" }, \n",
    "]\n",
    "code_executor = CodeExecutor()\n",
    "output, reward = genprm.inference(messages, majority_num=8, cur_step=1, code_executor=code_executor)\n",
    "\n",
    "# cprint(output, 'Model Output')\n",
    "cprint(reward, 'Reward')"
   ]
  },
  {
   "cell_type": "markdown",
   "id": "a7aef24b-1f6b-462e-8456-d7d99993c086",
   "metadata": {},
   "source": [
    "## process supervision for whole solution"
   ]
  },
  {
   "cell_type": "code",
   "execution_count": 9,
   "id": "fc0de8f2-b25d-4255-a243-ecd461bf9a15",
   "metadata": {},
   "outputs": [
    {
     "name": "stdout",
     "output_type": "stream",
     "text": [
      "[1.0, 1.0, 1.0, 1.0, 1.0, 1.0, 0.0, 0.0]\n"
     ]
    }
   ],
   "source": [
    "messages = [ \n",
    "\t{ \"content\": \"You are a math teacher. Your task is to review and critique the paragraphs in solution step by step.\", \"role\": \"system\" }, \n",
    "\t{ \"role\": \"user\", \"content\": \"Question: What numeral is in the 100th decimal place in the decimal representation of $\\\\frac{6}{7}$?\\n\\nTo find the numeral in the 100th decimal place of $\\\\frac{6}{7}$, we first need to determine the decimal representation of $\\\\frac{6}{7}$.\" }, \n",
    "\t{ \"role\": 'assistant', 'content': ''},\n",
    "\t{ \"role\": \"user\", \"content\": \"Performing the division, we find that $\\\\frac{6}{7} = 0.\\\\overline{857142}$, which means the decimal representation is a repeating decimal with a period of 6.\" }, \n",
    "\t{ \"role\": 'assistant', 'content': ''},\n",
    "\t{ \"role\": \"user\", \"content\": \"The repeating block is \\\"857142\\\", and it repeats indefinitely.\" }, \n",
    "\t{ \"role\": 'assistant', 'content': ''},\n",
    "\t{ \"role\": \"user\", \"content\": \"To find the numeral in the 100th decimal place, we need to determine the position of the 100th decimal within this repeating block.\" }, \n",
    "\t{ \"role\": 'assistant', 'content': ''},\n",
    "\t{ \"role\": \"user\", \"content\": \"We do this by finding the remainder when 100 is divided by the length of the repeating block, which is 6.\" }, \n",
    "\t{ \"role\": 'assistant', 'content': ''},\n",
    "\t{ \"role\": \"user\", \"content\": \"Calculating the remainder, we get $100 \\\\div 6 = 16$ with a remainder of 4. This means the 100th decimal place corresponds to the 4th digit in the repeating block \\\"857142\\\".\" }, \n",
    "\t{ \"role\": 'assistant', 'content': ''},\n",
    "\t{ \"role\": \"user\", \"content\": \"Therefore, the numeral in the 100th decimal place is the 4th digit of the repeating block, which is $4$.\" }, \n",
    "\t{ \"role\": 'assistant', 'content': ''},\n",
    "\t{ \"role\": \"user\", \"content\": \"The remainder of 4 indicates that the 100th decimal place is the same as the 4th digit in the repeating block, which is 4.\\n\\nAnswer: \\\\boxed{4}\" },\n",
    "\t{ \"role\": 'assistant', 'content': ''},\n",
    "]\n",
    "\n",
    "code_executor = CodeExecutor()\n",
    "reward_list = []\n",
    "for i in range(len(messages)):\n",
    "    if messages[i]['role'] != 'assistant':\n",
    "        continue\n",
    "    output, reward = genprm.inference(messages[:i], cur_step=int(i/2), code_executor=code_executor, logging=False)\n",
    "    messages[i]['content'] = output[0]\n",
    "    reward_list.append(reward)\n",
    "\n",
    "print(reward_list)"
   ]
  }
 ],
 "metadata": {
  "kernelspec": {
   "display_name": "Python 3 (ipykernel)",
   "language": "python",
   "name": "python3"
  },
  "language_info": {
   "codemirror_mode": {
    "name": "ipython",
    "version": 3
   },
   "file_extension": ".py",
   "mimetype": "text/x-python",
   "name": "python",
   "nbconvert_exporter": "python",
   "pygments_lexer": "ipython3",
   "version": "3.10.12"
  }
 },
 "nbformat": 4,
 "nbformat_minor": 5
}
